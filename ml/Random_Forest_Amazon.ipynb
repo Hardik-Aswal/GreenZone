{
  "cells": [
    {
      "cell_type": "code",
      "execution_count": null,
      "metadata": {
        "id": "uQ_PB12UQBKc"
      },
      "outputs": [
        {
          "ename": "",
          "evalue": "",
          "output_type": "error",
          "traceback": [
            "\u001b[1;31mRunning cells with 'Python 3.12.3' requires the ipykernel package.\n",
            "\u001b[1;31m<a href='command:jupyter.createPythonEnvAndSelectController'>Create a Python Environment</a> with the required packages.\n",
            "\u001b[1;31mOr install 'ipykernel' using the command: '/usr/bin/python3 -m pip install ipykernel -U --user --force-reinstall'"
          ]
        }
      ],
      "source": [
        "import pandas as pd\n",
        "import matplotlib.pyplot as plt\n",
        "import numpy as np\n",
        "from sklearn.model_selection import train_test_split\n",
        "from sklearn.preprocessing import StandardScaler\n",
        "from sklearn.metrics import r2_score\n",
        "from sklearn.ensemble import RandomForestRegressor\n",
        "import joblib"
      ]
    },
    {
      "cell_type": "markdown",
      "metadata": {
        "id": "X-ok24xtfu_O"
      },
      "source": [
        "READING THE DATASET"
      ]
    },
    {
      "cell_type": "code",
      "execution_count": null,
      "metadata": {
        "id": "xaPon-ADQFwS"
      },
      "outputs": [],
      "source": [
        "# df = pd.read_excel('Categorized_Carbon_Data.xlsx')\n",
        "# df = pd.read_excel('Carbon.xlsx')\n",
        "# df = pd.read_excel('Carbon_Class.xlsx')\n",
        "df = pd.read_excel('Carbon Main.xlsx')"
      ]
    },
    {
      "cell_type": "markdown",
      "metadata": {
        "id": "tyiLN8ZtfyrK"
      },
      "source": [
        "DROPPING DUPLICATES"
      ]
    },
    {
      "cell_type": "code",
      "execution_count": null,
      "metadata": {
        "id": "6gvbUMB-WkaD"
      },
      "outputs": [],
      "source": [
        "df = df.drop_duplicates()\n",
        "# df.to_csv('cleaned_dataset.csv', index=False)"
      ]
    },
    {
      "cell_type": "code",
      "execution_count": null,
      "metadata": {
        "colab": {
          "base_uri": "https://localhost:8080/",
          "height": 562
        },
        "collapsed": true,
        "id": "AThy97yaRaO6",
        "outputId": "3ce21460-a9ee-4023-dd32-58d8ea11c8a8"
      },
      "outputs": [],
      "source": [
        "df\n",
        "# from google.colab import files\n",
        "# files.download('cleaned_dataset.csv')"
      ]
    },
    {
      "cell_type": "markdown",
      "metadata": {
        "id": "C6jqfPR4qyIh"
      },
      "source": [
        "THE LABELS"
      ]
    },
    {
      "cell_type": "code",
      "execution_count": null,
      "metadata": {
        "colab": {
          "base_uri": "https://localhost:8080/"
        },
        "id": "0bPzfMzzqkoe",
        "outputId": "f30eeab7-6011-4138-f8c3-5ca29b3170dc"
      },
      "outputs": [],
      "source": [
        "df['Sector'].unique()"
      ]
    },
    {
      "cell_type": "code",
      "execution_count": null,
      "metadata": {
        "colab": {
          "base_uri": "https://localhost:8080/"
        },
        "id": "IIl5IngMqfDZ",
        "outputId": "6fd1873c-fde2-4cda-b55b-65f18fb19b7f"
      },
      "outputs": [],
      "source": [
        "df['Category 1'].unique()"
      ]
    },
    {
      "cell_type": "code",
      "execution_count": null,
      "metadata": {
        "colab": {
          "base_uri": "https://localhost:8080/"
        },
        "id": "ayHkGA8gqmI9",
        "outputId": "c2d84ea0-17ef-47f0-b13a-c59baf1efaac"
      },
      "outputs": [],
      "source": [
        "df['Category 2'].unique()"
      ]
    },
    {
      "cell_type": "code",
      "execution_count": null,
      "metadata": {
        "colab": {
          "base_uri": "https://localhost:8080/"
        },
        "id": "6qSHV3QGqok1",
        "outputId": "c3481212-c625-458d-b5fd-c6e33ccd1634"
      },
      "outputs": [],
      "source": [
        "df['Material 1'].unique()"
      ]
    },
    {
      "cell_type": "code",
      "execution_count": null,
      "metadata": {
        "colab": {
          "base_uri": "https://localhost:8080/"
        },
        "id": "3Ejn15kwqqf-",
        "outputId": "77554a69-bf05-4bd7-b6c2-6b2bfda6d3cc"
      },
      "outputs": [],
      "source": [
        "df['Material 2'].unique()"
      ]
    },
    {
      "cell_type": "markdown",
      "metadata": {
        "id": "V1F9bMBzf5I5"
      },
      "source": [
        "LABEL ENCODING"
      ]
    },
    {
      "cell_type": "code",
      "execution_count": null,
      "metadata": {
        "colab": {
          "base_uri": "https://localhost:8080/"
        },
        "collapsed": true,
        "id": "aL0ozwBERqi3",
        "outputId": "f5103c16-8726-40b5-842e-ff1aae86e4f3"
      },
      "outputs": [],
      "source": [
        "from sklearn import preprocessing\n",
        "label_encoder = preprocessing.LabelEncoder()\n",
        "df['Product']= label_encoder.fit_transform(df['Product'])\n",
        "df['Product'].unique()\n",
        "# df['Product']"
      ]
    },
    {
      "cell_type": "code",
      "execution_count": null,
      "metadata": {
        "colab": {
          "base_uri": "https://localhost:8080/"
        },
        "id": "nIJbSt1BWJHh",
        "outputId": "d223b674-72ee-406e-afc9-7102cbbbbd4b"
      },
      "outputs": [],
      "source": [
        "df['Sector']= label_encoder.fit_transform(df['Sector'])\n",
        "df['Sector'].unique()\n",
        "# df['Sector']"
      ]
    },
    {
      "cell_type": "code",
      "execution_count": null,
      "metadata": {
        "colab": {
          "base_uri": "https://localhost:8080/"
        },
        "id": "PwAzlzv_p2uc",
        "outputId": "14ffb1f8-2431-416d-a4aa-cb5043b8d9ba"
      },
      "outputs": [],
      "source": [
        "df['Category 1']= label_encoder.fit_transform(df['Category 1'])\n",
        "df['Category 1'].unique()\n",
        "# df['Category 1']"
      ]
    },
    {
      "cell_type": "code",
      "execution_count": null,
      "metadata": {
        "colab": {
          "base_uri": "https://localhost:8080/"
        },
        "id": "QlrTSAU0p4Sm",
        "outputId": "e8baeebd-c43f-45a8-94f8-f01edb3869a3"
      },
      "outputs": [],
      "source": [
        "df['Category 2']= label_encoder.fit_transform(df['Category 2'])\n",
        "df['Category 2'].unique()\n",
        "# df['Category 2']"
      ]
    },
    {
      "cell_type": "code",
      "execution_count": null,
      "metadata": {
        "colab": {
          "base_uri": "https://localhost:8080/"
        },
        "id": "B6XGBINTp5lS",
        "outputId": "b9c849ba-fea1-4558-b83f-3d024ba6a804"
      },
      "outputs": [],
      "source": [
        "df['Material 1']= label_encoder.fit_transform(df['Material 1'])\n",
        "df['Material 1'].unique()\n",
        "# df['Material 1']"
      ]
    },
    {
      "cell_type": "code",
      "execution_count": null,
      "metadata": {
        "colab": {
          "base_uri": "https://localhost:8080/"
        },
        "id": "n9U9kuM3p6__",
        "outputId": "fb0e4987-a953-4cf6-e126-752b08b9658f"
      },
      "outputs": [],
      "source": [
        "df['Material 2']= label_encoder.fit_transform(df['Material 2'])\n",
        "df['Material 2'].unique()\n",
        "# df['Material 2']"
      ]
    },
    {
      "cell_type": "code",
      "execution_count": null,
      "metadata": {
        "colab": {
          "base_uri": "https://localhost:8080/",
          "height": 423
        },
        "collapsed": true,
        "id": "QTVLxBi5R1qO",
        "outputId": "7e18eb3f-ca60-4b71-b23d-3696fd7074f2"
      },
      "outputs": [],
      "source": [
        "df"
      ]
    },
    {
      "cell_type": "markdown",
      "metadata": {
        "id": "crmTvL48gL4k"
      },
      "source": [
        "INDEXING"
      ]
    },
    {
      "cell_type": "code",
      "execution_count": null,
      "metadata": {
        "id": "m7QV3Rfn0eZa"
      },
      "outputs": [],
      "source": [
        "# x = df.iloc[:,[0, 1, 3]].values\n",
        "x = df.iloc[:, 1 :-1].values\n",
        "y = df.iloc[:,-1].values"
      ]
    },
    {
      "cell_type": "markdown",
      "metadata": {
        "id": "QtvAhbQugQVb"
      },
      "source": [
        "SPLITTING THE COLUMNS IN X & Y"
      ]
    },
    {
      "cell_type": "code",
      "execution_count": null,
      "metadata": {
        "id": "6pX6AYcwR42H"
      },
      "outputs": [],
      "source": [
        "xtrain, xtest, ytrain, ytest = train_test_split(x, y, test_size = 0.2, random_state = 42)"
      ]
    },
    {
      "cell_type": "markdown",
      "metadata": {
        "id": "jCC1G9DSlLgT"
      },
      "source": [
        "SCALING"
      ]
    },
    {
      "cell_type": "code",
      "execution_count": null,
      "metadata": {
        "id": "7cXJyW8nKiz0"
      },
      "outputs": [],
      "source": [
        "sc = StandardScaler()\n",
        "xtrain= sc.fit_transform(xtrain)\n",
        "xtest = sc.transform(xtest)"
      ]
    },
    {
      "cell_type": "markdown",
      "metadata": {
        "id": "mvk-typYlWHA"
      },
      "source": [
        "REGRESSION"
      ]
    },
    {
      "cell_type": "code",
      "execution_count": null,
      "metadata": {
        "colab": {
          "base_uri": "https://localhost:8080/",
          "height": 80
        },
        "id": "D8P2ZG9HKvjg",
        "outputId": "8feae4bf-d4e0-45c7-a431-36c4217874b8"
      },
      "outputs": [],
      "source": [
        "regressor = RandomForestRegressor(n_estimators=100, random_state=42)\n",
        "regressor.fit(xtrain, ytrain)"
      ]
    },
    {
      "cell_type": "code",
      "execution_count": null,
      "metadata": {
        "colab": {
          "base_uri": "https://localhost:8080/"
        },
        "id": "3fpreDjB53RG",
        "outputId": "4a71a733-90f3-4b91-9b6d-134e1eee4406"
      },
      "outputs": [],
      "source": [
        "ypred = regressor.predict(xtest)\n",
        "print(\"R2 Score:\", r2_score(ytest, ypred))"
      ]
    },
    {
      "cell_type": "code",
      "execution_count": null,
      "metadata": {},
      "outputs": [],
      "source": []
    },
    {
      "cell_type": "code",
      "execution_count": null,
      "metadata": {
        "colab": {
          "base_uri": "https://localhost:8080/"
        },
        "id": "ovEPh3jjVhKN",
        "outputId": "ac260cd4-9d3e-4162-c3e8-09b55c7aeb60"
      },
      "outputs": [],
      "source": [
        "input = [[5, 5, 7, 0, 2, 0.74]]\n",
        "input_scaled = sc.transform(input)\n",
        "carbon = regressor.predict(input_scaled)\n",
        "print(\"Predicted Carbon Emission:\", carbon)\n",
        "\n",
        "joblib.dump(regressor, 'random_forest_model.pkl')"
      ]
    },
    {
      "cell_type": "code",
      "execution_count": null,
      "metadata": {
        "id": "WFNuW2lV3izP"
      },
      "outputs": [],
      "source": []
    }
  ],
  "metadata": {
    "colab": {
      "provenance": []
    },
    "kernelspec": {
      "display_name": "Python 3",
      "name": "python3"
    },
    "language_info": {
      "name": "python",
      "version": "3.12.3"
    }
  },
  "nbformat": 4,
  "nbformat_minor": 0
}
